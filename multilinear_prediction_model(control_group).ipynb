{
  "nbformat": 4,
  "nbformat_minor": 0,
  "metadata": {
    "colab": {
      "provenance": []
    },
    "kernelspec": {
      "name": "python3",
      "display_name": "Python 3"
    },
    "language_info": {
      "name": "python"
    }
  },
  "cells": [
    {
      "cell_type": "code",
      "execution_count": null,
      "metadata": {
        "colab": {
          "base_uri": "https://localhost:8080/"
        },
        "id": "lfUpSFuDybil",
        "outputId": "78b55def-c963-4a2a-d558-601423044d90"
      },
      "outputs": [
        {
          "output_type": "stream",
          "name": "stdout",
          "text": [
            "R² score: 0.892296234314488\n",
            "Mean Squared Error: 0.10698340863889418\n"
          ]
        }
      ],
      "source": [
        "import pandas as pd\n",
        "from sklearn.model_selection import train_test_split\n",
        "from sklearn.preprocessing import StandardScaler\n",
        "from sklearn.linear_model import LinearRegression\n",
        "from sklearn.metrics import r2_score, mean_squared_error\n",
        "\n",
        "data = pd.read_csv(\"final.csv\")\n",
        "\n",
        "# 'date' 열을 날짜 형식으로 변환\n",
        "data['date'] = pd.to_datetime(data['date'])\n",
        "\n",
        "# 독립 변수와 종속 변수 분리\n",
        "X = data.drop(['samsung_closeprice', 'date'], axis=1)\n",
        "y = data['samsung_closeprice']\n",
        "\n",
        "# 데이터 분할\n",
        "X_train, X_test, y_train, y_test = train_test_split(X, y, test_size=0.3, random_state=42)\n",
        "\n",
        "# 데이터 스케일링\n",
        "scaler = StandardScaler()\n",
        "X_train_scaled = scaler.fit_transform(X_train)\n",
        "X_test_scaled = scaler.transform(X_test)\n",
        "y_train_scaled = scaler.fit_transform(y_train.values.reshape(-1, 1))\n",
        "y_test_scaled = scaler.transform(y_test.values.reshape(-1,1))\n",
        "\n",
        "# 선형 회귀 모델 초기화 및 훈련\n",
        "linear_model = LinearRegression()\n",
        "linear_model.fit(X_train_scaled, y_train_scaled)\n",
        "\n",
        "# 테스트 데이터에 대한 예측\n",
        "y_pred = linear_model.predict(X_test_scaled)\n",
        "\n",
        "# 모델 성능 평가\n",
        "r2 = r2_score(y_test_scaled, y_pred)\n",
        "mse = mean_squared_error(y_test_scaled, y_pred)\n",
        "\n",
        "# 결과 출력\n",
        "print(f\"R² score: {r2}\")\n",
        "print(f\"Mean Squared Error: {mse}\")"
      ]
    }
  ]
}